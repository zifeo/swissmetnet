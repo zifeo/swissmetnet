{
 "cells": [
  {
   "cell_type": "code",
   "execution_count": null,
   "id": "af29aa87",
   "metadata": {},
   "outputs": [],
   "source": [
    "%load_ext autoreload\n",
    "%autoreload 2"
   ]
  },
  {
   "cell_type": "code",
   "execution_count": null,
   "id": "7aab7467-bde7-4b7f-957b-328f3e02395f",
   "metadata": {},
   "outputs": [],
   "source": [
    "import sys\n",
    "sys.path.append(\"..\")"
   ]
  },
  {
   "cell_type": "code",
   "execution_count": null,
   "id": "51477a9a",
   "metadata": {},
   "outputs": [],
   "source": [
    "import pandas as pd\n",
    "from swissmetnet import data"
   ]
  },
  {
   "cell_type": "code",
   "execution_count": null,
   "id": "45ac5309",
   "metadata": {},
   "outputs": [],
   "source": [
    "data.read_vqha80().head(5)"
   ]
  },
  {
   "cell_type": "code",
   "execution_count": null,
   "id": "ab316719",
   "metadata": {},
   "outputs": [],
   "source": [
    "data.read_vqha98().head(5)"
   ]
  },
  {
   "cell_type": "code",
   "execution_count": null,
   "id": "b7022d44",
   "metadata": {},
   "outputs": [],
   "source": [
    "data.read_cosmoe2().head(5)"
   ]
  },
  {
   "cell_type": "code",
   "execution_count": null,
   "id": "c4ccd8ca",
   "metadata": {},
   "outputs": [],
   "source": [
    "data.read_foehn()"
   ]
  },
  {
   "cell_type": "code",
   "execution_count": null,
   "id": "45b5a76a-d843-4b0e-a5a2-2cd049d967da",
   "metadata": {},
   "outputs": [],
   "source": []
  }
 ],
 "metadata": {
  "kernelspec": {
   "display_name": "Python 3 (ipykernel)",
   "language": "python",
   "name": "python3"
  },
  "language_info": {
   "codemirror_mode": {
    "name": "ipython",
    "version": 3
   },
   "file_extension": ".py",
   "mimetype": "text/x-python",
   "name": "python",
   "nbconvert_exporter": "python",
   "pygments_lexer": "ipython3",
   "version": "3.10.9"
  }
 },
 "nbformat": 4,
 "nbformat_minor": 5
}
