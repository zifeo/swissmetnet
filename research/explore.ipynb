{
 "cells": [
  {
   "cell_type": "code",
   "execution_count": null,
   "id": "813f9af2-7a6d-4900-8094-c905b7414cd4",
   "metadata": {},
   "outputs": [],
   "source": [
    "%load_ext autoreload\n",
    "%autoreload 2"
   ]
  },
  {
   "cell_type": "code",
   "execution_count": null,
   "id": "d361ddea-936c-43b7-9a2e-c09540f3125e",
   "metadata": {},
   "outputs": [],
   "source": [
    "import pandas as pd\n",
    "from swissmetnet import data"
   ]
  },
  {
   "cell_type": "code",
   "execution_count": null,
   "id": "ce0e9ea8-95af-4024-9257-5cf18e1dada3",
   "metadata": {},
   "outputs": [],
   "source": [
    "data.read_vqha80().head(5)"
   ]
  },
  {
   "cell_type": "code",
   "execution_count": null,
   "id": "8fa8d5c3-f019-4d31-b575-39212535c5b5",
   "metadata": {},
   "outputs": [],
   "source": [
    "data.read_vqha98().head(5)"
   ]
  },
  {
   "cell_type": "code",
   "execution_count": null,
   "id": "f7c1ad0f-a192-41f8-b1fc-532900964d17",
   "metadata": {},
   "outputs": [],
   "source": [
    "data.read_cosmoe2().head(25)"
   ]
  },
  {
   "cell_type": "code",
   "execution_count": null,
   "id": "176893c3-0a66-4800-b95a-2322185f2c3a",
   "metadata": {},
   "outputs": [],
   "source": []
  }
 ],
 "metadata": {
  "kernelspec": {
   "display_name": "Python 3 (ipykernel)",
   "language": "python",
   "name": "python3"
  },
  "language_info": {
   "codemirror_mode": {
    "name": "ipython",
    "version": 3
   },
   "file_extension": ".py",
   "mimetype": "text/x-python",
   "name": "python",
   "nbconvert_exporter": "python",
   "pygments_lexer": "ipython3",
   "version": "3.9.6"
  }
 },
 "nbformat": 4,
 "nbformat_minor": 5
}
